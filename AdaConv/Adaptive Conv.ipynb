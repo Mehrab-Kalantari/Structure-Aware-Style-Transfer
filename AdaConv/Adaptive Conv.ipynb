{
 "cells": [
  {
   "cell_type": "markdown",
   "id": "a89bd555",
   "metadata": {
    "pycharm": {
     "name": "#%% md\n"
    }
   },
   "source": [
    "# Adaptive Convolutions for Structure-Aware Style Transfer\n",
    "[To observe the paper](https://openaccess.thecvf.com/content/CVPR2021/papers/Chandran_Adaptive_Convolutions_for_Structure-Aware_Style_Transfer_CVPR_2021_paper.pdf)\n",
    "![p](st.jpg)"
   ]
  },
  {
   "cell_type": "code",
   "execution_count": 12,
   "id": "abae325c",
   "metadata": {
    "pycharm": {
     "name": "#%%\n"
    }
   },
   "outputs": [],
   "source": [
    "import tensorflow as tf\n",
    "from tensorflow.keras import Sequential"
   ]
  },
  {
   "cell_type": "markdown",
   "id": "97d37683",
   "metadata": {
    "pycharm": {
     "name": "#%% md\n"
    }
   },
   "source": [
    "# Kernel Prediction Class\n",
    "![p](kp.jpg)"
   ]
  },
  {
   "cell_type": "code",
   "execution_count": 13,
   "id": "c9ee324e",
   "metadata": {
    "pycharm": {
     "name": "#%%\n"
    }
   },
   "outputs": [],
   "source": [
    "class KernelPredict(tf.keras.layers.Layer):\n",
    "    def __init__(self, dim, kernel_size=3, name='KernelPredict'):\n",
    "        super(KernelPredict, self).__init__(name=name)\n",
    "        self.channels = dim\n",
    "        self.kernel_size = kernel_size\n",
    "        self.n_groups = self.channels\n",
    "        self.w_spatial_layer = tf.keras.layers.Dense(units=self.channels * self.channels // self.n_groups,\n",
    "                                                         use_bias=True, name='w_spatial_fc')\n",
    "        self.w_point_layer = tf.keras.layers.Dense(units=self.channels * self.channels // self.n_groups,\n",
    "                                                   use_bias=True, name='w_point_fc')\n",
    "        self.bias = tf.keras.layers.Dense(units=self.channels,\n",
    "                                          use_bias=True, name='bias_fc')\n",
    "            \n",
    "\n",
    "    def call(self, style_w):\n",
    "        batch_size = style_w.shape[0]\n",
    "        w_spatial = self.w_spatial_layer(style_w)\n",
    "        w_spatial = tf.reshape(w_spatial, shape=[batch_size, 1, 1, self.channels // self.n_groups, self.channels])\n",
    "        w_pointwise = self.w_point_layer(style_w)\n",
    "        w_pointwise = tf.reshape(w_pointwise, shape=[batch_size, 1, 1, self.channels // self.n_groups, self.channels])\n",
    "        bias = self.bias(style_w)\n",
    "        bias = tf.reshape(bias, shape=[batch_size, self.channels])\n",
    "        return w_spatial, w_pointwise, bias"
   ]
  },
  {
   "cell_type": "markdown",
   "id": "2237d206",
   "metadata": {
    "pycharm": {
     "name": "#%% md\n"
    }
   },
   "source": [
    "# Adaptive Conv Class"
   ]
  },
  {
   "cell_type": "code",
   "execution_count": 14,
   "id": "1b8b3f80",
   "metadata": {
    "pycharm": {
     "name": "#%%\n"
    }
   },
   "outputs": [],
   "source": [
    "class AdaConv(tf.keras.layers.Layer):\n",
    "    def __init__(self, channels, kernel_size=3, name='AdaConv'):\n",
    "        super(AdaConv, self).__init__(name=name)\n",
    "        self.channels = channels\n",
    "        self.kernel_size = kernel_size\n",
    "        self.conv = tf.keras.layers.Conv2D(filters=self.channels, kernel_size=self.kernel_size,\n",
    "                                           strides=1, use_bias=True, padding='SAME', name='conv1')\n",
    "\n",
    "    def call(self, inputs):\n",
    "        x, w_spatial, w_pointwise, bias = inputs\n",
    "        batch_size = x.shape[0]\n",
    "        xs = []\n",
    "        x = self._normalize(x)\n",
    "        for i in range(batch_size):\n",
    "            _x = self._apply_weights(x[i:i+1], w_spatial[i:i+1], w_pointwise[i:i+1], bias[i:i+1])\n",
    "            xs.append(_x)\n",
    "        x = tf.concat(xs, axis=0)\n",
    "        x = self.conv(x)\n",
    "        return x\n",
    "\n",
    "    def _normalize(self, x):\n",
    "        mean = tf.reduce_mean(x, axis=[1, 2], keepdims=True)\n",
    "        std = tf.math.reduce_std(x, axis=[1, 2], keepdims=True)\n",
    "        x_norm = (x - mean) / (std)\n",
    "        return x_norm\n",
    "\n",
    "    def _apply_weights(self, x, w_spatial, w_pointwise, bias):\n",
    "        # spatial conv\n",
    "        spatial_out_channels = w_spatial.shape[-1]\n",
    "        spatial_kernel_size = w_spatial.shape[1]\n",
    "        spatial_conv = tf.keras.layers.Conv2D(filters=spatial_out_channels, kernel_size=spatial_kernel_size,\n",
    "                                              strides=1, use_bias=False, padding='SAME', groups=self.n_groups,\n",
    "                                              name='spatial_conv')\n",
    "\n",
    "        spatial_conv.build(x.shape)\n",
    "        spatial_conv.set_weights(w_spatial)\n",
    "        x = spatial_conv(x)\n",
    "\n",
    "        # pointwise conv\n",
    "        point_out_channels = w_pointwise.shape[-1]\n",
    "        point_kernel_size = w_pointwise.shape[1]\n",
    "        w_pointwise = tf.squeeze(w_pointwise, axis=0)\n",
    "        bias = tf.squeeze(bias, axis=0)\n",
    "\n",
    "        point_conv = tf.keras.layers.Conv2D(filters=point_out_channels, kernel_size=point_kernel_size,\n",
    "                                            strides=1, use_bias=True, padding='VALID', groups=self.n_groups, \n",
    "                                            name='point_conv')\n",
    "        \n",
    "        point_conv.build(x.shape)\n",
    "        point_conv.set_weights([w_pointwise, bias])\n",
    "        x = point_conv(x)\n",
    "        return x\n",
    "    \n",
    "    def build(self, input_shape):\n",
    "        self.n_groups = input_shape[0][-1]"
   ]
  },
  {
   "cell_type": "markdown",
   "id": "d3a5055c",
   "metadata": {
    "pycharm": {
     "name": "#%% md\n"
    }
   },
   "source": [
    "# Test"
   ]
  },
  {
   "cell_type": "code",
   "execution_count": 15,
   "id": "7a6d1e03",
   "metadata": {
    "pycharm": {
     "name": "#%%\n"
    }
   },
   "outputs": [],
   "source": [
    "feats = tf.random.normal(shape=[5, 64, 64, 256])\n",
    "style_w = tf.random.normal(shape=[5, 512])\n",
    "kp = KernelPredict(dim=feats.shape[-1])\n",
    "adac = AdaConv(channels=1024)\n",
    "w_spatial, w_pointwise, bias = kp(style_w)\n",
    "x = adac([feats, w_spatial, w_pointwise, bias])"
   ]
  },
  {
   "cell_type": "code",
   "execution_count": 16,
   "id": "a8a4ad06",
   "metadata": {
    "pycharm": {
     "name": "#%%\n"
    }
   },
   "outputs": [
    {
     "name": "stdout",
     "output_type": "stream",
     "text": [
      "(5, 64, 64, 1024)\n"
     ]
    }
   ],
   "source": [
    "print(x.shape)"
   ]
  },
  {
   "cell_type": "code",
   "execution_count": null,
   "id": "d493517d",
   "metadata": {
    "pycharm": {
     "name": "#%%\n"
    }
   },
   "outputs": [],
   "source": []
  }
 ],
 "metadata": {
  "kernelspec": {
   "display_name": "Python 3 (ipykernel)",
   "language": "python",
   "name": "python3"
  },
  "language_info": {
   "codemirror_mode": {
    "name": "ipython",
    "version": 3
   },
   "file_extension": ".py",
   "mimetype": "text/x-python",
   "name": "python",
   "nbconvert_exporter": "python",
   "pygments_lexer": "ipython3",
   "version": "3.9.12"
  }
 },
 "nbformat": 4,
 "nbformat_minor": 5
}